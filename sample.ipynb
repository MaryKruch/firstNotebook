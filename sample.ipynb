{
 "cells": [
  {
   "metadata": {},
   "cell_type": "markdown",
   "source": [
    "# This is a sample Jupyter Notebook\n",
    "\n",
    "Below is an example of a code cell. \n",
    "Put your cursor into the cell and press Shift+Enter to execute it and select the next one, or click 'Run Cell' button.\n",
    "\n",
    "Press Double Shift to search everywhere for classes, files, tool windows, actions, and settings.\n",
    "\n",
    "To learn more about Jupyter Notebooks in PyCharm, see [help](https://www.jetbrains.com/help/pycharm/ipython-notebook-support.html).\n",
    "For an overview of PyCharm, go to Help -> Learn IDE features or refer to [our documentation](https://www.jetbrains.com/help/pycharm/getting-started.html)."
   ],
   "id": "8a77807f92f26ee"
  },
  {
   "metadata": {
    "ExecuteTime": {
     "end_time": "2025-10-10T11:55:54.829017Z",
     "start_time": "2025-10-10T11:55:36.567106Z"
    }
   },
   "cell_type": "code",
   "source": [
    "##11.3\n",
    "name = input(\"Название вуза: \")\n",
    "a = int(input(\"Зачислено на 1 курс: \"))\n",
    "b = int(input(\"Выпускников: \"))\n",
    "p = float(input(\"Процент работающих по спец-ти: \"))\n",
    "\n",
    "q = b / a\n",
    "qp = (p / 100) * q\n",
    "\n",
    "print(\"\\nРезультаты:\")\n",
    "print(\"Вуз:\", name)\n",
    "print(\"Q =\", round(q, 2))\n",
    "print(\"Qp =\", round(qp, 2))"
   ],
   "id": "fbc121e30a2defb3",
   "outputs": [
    {
     "name": "stdout",
     "output_type": "stream",
     "text": [
      "\n",
      "Результаты:\n",
      "Вуз: rfrf\n",
      "Q = 0.11\n",
      "Qp = 0.1\n"
     ]
    }
   ],
   "execution_count": 1
  },
  {
   "metadata": {},
   "cell_type": "code",
   "outputs": [],
   "execution_count": null,
   "source": [
    "##11.1 medium\n",
    "\n"
   ],
   "id": "b141735940efe609"
  },
  {
   "metadata": {
    "ExecuteTime": {
     "end_time": "2025-10-24T10:46:54.851792Z",
     "start_time": "2025-10-24T10:46:54.682066Z"
    }
   },
   "cell_type": "code",
   "source": [
    "import numpy as np\n",
    "my_matrix=[[1,2,3],[4,5,6],[7,8,9]]\n",
    "np.array(my_matrix)\n"
   ],
   "id": "8af878e85d5866df",
   "outputs": [
    {
     "data": {
      "text/plain": [
       "array([[1, 2, 3],\n",
       "       [4, 5, 6],\n",
       "       [7, 8, 9]])"
      ]
     },
     "execution_count": 1,
     "metadata": {},
     "output_type": "execute_result"
    }
   ],
   "execution_count": 1
  }
 ],
 "metadata": {
  "kernelspec": {
   "display_name": "Python 3",
   "language": "python",
   "name": "python3"
  },
  "language_info": {
   "codemirror_mode": {
    "name": "ipython",
    "version": 2
   },
   "file_extension": ".py",
   "mimetype": "text/x-python",
   "name": "python",
   "nbconvert_exporter": "python",
   "pygments_lexer": "ipython2",
   "version": "2.7.6"
  }
 },
 "nbformat": 4,
 "nbformat_minor": 5
}
